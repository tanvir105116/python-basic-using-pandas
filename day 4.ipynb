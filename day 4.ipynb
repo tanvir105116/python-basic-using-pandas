{
 "cells": [
  {
   "cell_type": "markdown",
   "id": "95f63486",
   "metadata": {},
   "source": [
    "# data frame using pandas"
   ]
  },
  {
   "cell_type": "code",
   "execution_count": 1,
   "id": "13acf6df",
   "metadata": {},
   "outputs": [],
   "source": [
    "import pandas as pd\n",
    "df=pd.read_csv('the_tom_jerry.csv')    #here we read a csv file using pandas "
   ]
  },
  {
   "cell_type": "code",
   "execution_count": 3,
   "id": "b908fe54",
   "metadata": {},
   "outputs": [
    {
     "data": {
      "text/html": [
       "<div>\n",
       "<style scoped>\n",
       "    .dataframe tbody tr th:only-of-type {\n",
       "        vertical-align: middle;\n",
       "    }\n",
       "\n",
       "    .dataframe tbody tr th {\n",
       "        vertical-align: top;\n",
       "    }\n",
       "\n",
       "    .dataframe thead th {\n",
       "        text-align: right;\n",
       "    }\n",
       "</style>\n",
       "<table border=\"1\" class=\"dataframe\">\n",
       "  <thead>\n",
       "    <tr style=\"text-align: right;\">\n",
       "      <th></th>\n",
       "      <th>Title</th>\n",
       "      <th>Channel Name</th>\n",
       "      <th>Published At</th>\n",
       "      <th>Description</th>\n",
       "      <th>Video Duration</th>\n",
       "      <th>Default Thumbnail URL</th>\n",
       "      <th>Tags</th>\n",
       "      <th>View Count</th>\n",
       "      <th>Like Count</th>\n",
       "      <th>Favorite Count</th>\n",
       "    </tr>\n",
       "  </thead>\n",
       "  <tbody>\n",
       "    <tr>\n",
       "      <th>0</th>\n",
       "      <td>Tom &amp; Jerry | New Year, Same Frenemies 🐱🐭 | Cl...</td>\n",
       "      <td>WB Kids</td>\n",
       "      <td>2024-01-06T16:00:34Z</td>\n",
       "      <td>It's a brand new year, but nothing has changed...</td>\n",
       "      <td>PT19M10S</td>\n",
       "      <td>https://i.ytimg.com/vi/p-FjIOBmoVI/default.jpg</td>\n",
       "      <td>['Scooby-Doo!', 'Tom and Jerry', 'Looney Tunes...</td>\n",
       "      <td>879025</td>\n",
       "      <td>3996</td>\n",
       "      <td>0</td>\n",
       "    </tr>\n",
       "    <tr>\n",
       "      <th>1</th>\n",
       "      <td>Tom &amp; Jerry | Cozy Winter Nights ❄️🧣 | Classic...</td>\n",
       "      <td>WB Kids</td>\n",
       "      <td>2023-12-30T16:00:33Z</td>\n",
       "      <td>It's cold outside, the nights are long, and th...</td>\n",
       "      <td>PT15M13S</td>\n",
       "      <td>https://i.ytimg.com/vi/jUJ0BY0DFwg/default.jpg</td>\n",
       "      <td>['Scooby-Doo!', 'Tom and Jerry', 'Looney Tunes...</td>\n",
       "      <td>493516</td>\n",
       "      <td>2356</td>\n",
       "      <td>0</td>\n",
       "    </tr>\n",
       "    <tr>\n",
       "      <th>2</th>\n",
       "      <td>Tom and Jerry Singapore Full Episodes | Cartoo...</td>\n",
       "      <td>WB Kids</td>\n",
       "      <td>2023-12-27T22:00:02Z</td>\n",
       "      <td>Join Tom and Jerry on a new adventure set in S...</td>\n",
       "      <td>PT24M11S</td>\n",
       "      <td>https://i.ytimg.com/vi/3YHO81QWQmU/default.jpg</td>\n",
       "      <td>['Scooby-Doo!', 'Tom and Jerry', 'Looney Tunes...</td>\n",
       "      <td>7137876</td>\n",
       "      <td>32234</td>\n",
       "      <td>0</td>\n",
       "    </tr>\n",
       "    <tr>\n",
       "      <th>3</th>\n",
       "      <td>Tom &amp; Jerry | A Christmas Duel 🎄 | Holiday Hij...</td>\n",
       "      <td>WB Kids</td>\n",
       "      <td>2023-12-23T16:00:45Z</td>\n",
       "      <td>Just because it's Christmas, doesn't mean it's...</td>\n",
       "      <td>PT14M58S</td>\n",
       "      <td>https://i.ytimg.com/vi/wvO2tljvh6A/default.jpg</td>\n",
       "      <td>['Scooby-Doo!', 'Tom and Jerry', 'Looney Tunes...</td>\n",
       "      <td>156249</td>\n",
       "      <td>1079</td>\n",
       "      <td>0</td>\n",
       "    </tr>\n",
       "    <tr>\n",
       "      <th>4</th>\n",
       "      <td>Tom and Jerry Singapore Full Episodes (5-7) | ...</td>\n",
       "      <td>WB Kids</td>\n",
       "      <td>2023-12-20T22:00:17Z</td>\n",
       "      <td>Join Tom and Jerry on a new adventure set in S...</td>\n",
       "      <td>PT10M32S</td>\n",
       "      <td>https://i.ytimg.com/vi/j3p1o4hKciU/default.jpg</td>\n",
       "      <td>['Scooby-Doo!', 'Tom and Jerry', 'Looney Tunes...</td>\n",
       "      <td>1419710</td>\n",
       "      <td>5956</td>\n",
       "      <td>0</td>\n",
       "    </tr>\n",
       "  </tbody>\n",
       "</table>\n",
       "</div>"
      ],
      "text/plain": [
       "                                               Title Channel Name  \\\n",
       "0  Tom & Jerry | New Year, Same Frenemies 🐱🐭 | Cl...      WB Kids   \n",
       "1  Tom & Jerry | Cozy Winter Nights ❄️🧣 | Classic...      WB Kids   \n",
       "2  Tom and Jerry Singapore Full Episodes | Cartoo...      WB Kids   \n",
       "3  Tom & Jerry | A Christmas Duel 🎄 | Holiday Hij...      WB Kids   \n",
       "4  Tom and Jerry Singapore Full Episodes (5-7) | ...      WB Kids   \n",
       "\n",
       "           Published At                                        Description  \\\n",
       "0  2024-01-06T16:00:34Z  It's a brand new year, but nothing has changed...   \n",
       "1  2023-12-30T16:00:33Z  It's cold outside, the nights are long, and th...   \n",
       "2  2023-12-27T22:00:02Z  Join Tom and Jerry on a new adventure set in S...   \n",
       "3  2023-12-23T16:00:45Z  Just because it's Christmas, doesn't mean it's...   \n",
       "4  2023-12-20T22:00:17Z  Join Tom and Jerry on a new adventure set in S...   \n",
       "\n",
       "  Video Duration                           Default Thumbnail URL  \\\n",
       "0       PT19M10S  https://i.ytimg.com/vi/p-FjIOBmoVI/default.jpg   \n",
       "1       PT15M13S  https://i.ytimg.com/vi/jUJ0BY0DFwg/default.jpg   \n",
       "2       PT24M11S  https://i.ytimg.com/vi/3YHO81QWQmU/default.jpg   \n",
       "3       PT14M58S  https://i.ytimg.com/vi/wvO2tljvh6A/default.jpg   \n",
       "4       PT10M32S  https://i.ytimg.com/vi/j3p1o4hKciU/default.jpg   \n",
       "\n",
       "                                                Tags  View Count  Like Count  \\\n",
       "0  ['Scooby-Doo!', 'Tom and Jerry', 'Looney Tunes...      879025        3996   \n",
       "1  ['Scooby-Doo!', 'Tom and Jerry', 'Looney Tunes...      493516        2356   \n",
       "2  ['Scooby-Doo!', 'Tom and Jerry', 'Looney Tunes...     7137876       32234   \n",
       "3  ['Scooby-Doo!', 'Tom and Jerry', 'Looney Tunes...      156249        1079   \n",
       "4  ['Scooby-Doo!', 'Tom and Jerry', 'Looney Tunes...     1419710        5956   \n",
       "\n",
       "   Favorite Count  \n",
       "0               0  \n",
       "1               0  \n",
       "2               0  \n",
       "3               0  \n",
       "4               0  "
      ]
     },
     "execution_count": 3,
     "metadata": {},
     "output_type": "execute_result"
    }
   ],
   "source": [
    "df.head()        #this is how we see the file"
   ]
  },
  {
   "cell_type": "code",
   "execution_count": 5,
   "id": "92c7d064",
   "metadata": {},
   "outputs": [
    {
     "data": {
      "text/plain": [
       "(1387, 10)"
      ]
     },
     "execution_count": 5,
     "metadata": {},
     "output_type": "execute_result"
    }
   ],
   "source": [
    "df.shape      #by shape we know the row and coloum in first bracket we get (row,coloum)"
   ]
  },
  {
   "cell_type": "code",
   "execution_count": 9,
   "id": "fdd5d599",
   "metadata": {},
   "outputs": [
    {
     "data": {
      "text/plain": [
       "<bound method DataFrame.info of                                                   Title      Channel Name  \\\n",
       "0     Tom & Jerry | New Year, Same Frenemies 🐱🐭 | Cl...           WB Kids   \n",
       "1     Tom & Jerry | Cozy Winter Nights ❄️🧣 | Classic...           WB Kids   \n",
       "2     Tom and Jerry Singapore Full Episodes | Cartoo...           WB Kids   \n",
       "3     Tom & Jerry | A Christmas Duel 🎄 | Holiday Hij...           WB Kids   \n",
       "4     Tom and Jerry Singapore Full Episodes (5-7) | ...           WB Kids   \n",
       "...                                                 ...               ...   \n",
       "1382  Tom and Jerry - Cemilan Malam Suatu Hari(The M...  MovieCon Animasi   \n",
       "1383  Tom and Jerry - Tom Kalah(Kitty Foiled, bahasa...  MovieCon Animasi   \n",
       "1384  Tom and Jerry - Satu Ronde Tusukan!(touche, pu...  MovieCon Animasi   \n",
       "1385  Tom and Jerry - Beruang yang Menari(down beat ...  MovieCon Animasi   \n",
       "1386  Tom and Jerry - Tom dan Cherie(bahasa indonesi...  MovieCon Animasi   \n",
       "\n",
       "              Published At                                        Description  \\\n",
       "0     2024-01-06T16:00:34Z  It's a brand new year, but nothing has changed...   \n",
       "1     2023-12-30T16:00:33Z  It's cold outside, the nights are long, and th...   \n",
       "2     2023-12-27T22:00:02Z  Join Tom and Jerry on a new adventure set in S...   \n",
       "3     2023-12-23T16:00:45Z  Just because it's Christmas, doesn't mean it's...   \n",
       "4     2023-12-20T22:00:17Z  Join Tom and Jerry on a new adventure set in S...   \n",
       "...                    ...                                                ...   \n",
       "1382  2022-07-29T04:52:24Z  By clicking on the link below, you can enjoy m...   \n",
       "1383  2022-07-25T04:27:13Z  By clicking on the link below, you can enjoy m...   \n",
       "1384  2022-10-20T09:42:07Z  Due to the YouTube policy, various contents of...   \n",
       "1385  2022-10-19T01:42:11Z  Due to the YouTube policy, various contents of...   \n",
       "1386  2022-07-27T07:50:31Z  By clicking on the link below, you can enjoy m...   \n",
       "\n",
       "     Video Duration                           Default Thumbnail URL  \\\n",
       "0          PT19M10S  https://i.ytimg.com/vi/p-FjIOBmoVI/default.jpg   \n",
       "1          PT15M13S  https://i.ytimg.com/vi/jUJ0BY0DFwg/default.jpg   \n",
       "2          PT24M11S  https://i.ytimg.com/vi/3YHO81QWQmU/default.jpg   \n",
       "3          PT14M58S  https://i.ytimg.com/vi/wvO2tljvh6A/default.jpg   \n",
       "4          PT10M32S  https://i.ytimg.com/vi/j3p1o4hKciU/default.jpg   \n",
       "...             ...                                             ...   \n",
       "1382         PT9M6S  https://i.ytimg.com/vi/2eyJrfQsJAI/default.jpg   \n",
       "1383        PT7M30S  https://i.ytimg.com/vi/7zkssZR7UFY/default.jpg   \n",
       "1384        PT6M43S  https://i.ytimg.com/vi/tWiHJ5AOTjs/default.jpg   \n",
       "1385        PT6M26S  https://i.ytimg.com/vi/RLQ-6XZD_rw/default.jpg   \n",
       "1386        PT6M40S  https://i.ytimg.com/vi/wqAwCobUHaM/default.jpg   \n",
       "\n",
       "                                                   Tags  View Count  \\\n",
       "0     ['Scooby-Doo!', 'Tom and Jerry', 'Looney Tunes...      879025   \n",
       "1     ['Scooby-Doo!', 'Tom and Jerry', 'Looney Tunes...      493516   \n",
       "2     ['Scooby-Doo!', 'Tom and Jerry', 'Looney Tunes...     7137876   \n",
       "3     ['Scooby-Doo!', 'Tom and Jerry', 'Looney Tunes...      156249   \n",
       "4     ['Scooby-Doo!', 'Tom and Jerry', 'Looney Tunes...     1419710   \n",
       "...                                                 ...         ...   \n",
       "1382                                                ---        5655   \n",
       "1383                                                ---        6110   \n",
       "1384                                                ---        3257   \n",
       "1385                                                ---        2853   \n",
       "1386                                                ---        5520   \n",
       "\n",
       "      Like Count  Favorite Count  \n",
       "0           3996               0  \n",
       "1           2356               0  \n",
       "2          32234               0  \n",
       "3           1079               0  \n",
       "4           5956               0  \n",
       "...          ...             ...  \n",
       "1382         164               0  \n",
       "1383         130               0  \n",
       "1384          95               0  \n",
       "1385          97               0  \n",
       "1386         153               0  \n",
       "\n",
       "[1387 rows x 10 columns]>"
      ]
     },
     "execution_count": 9,
     "metadata": {},
     "output_type": "execute_result"
    }
   ],
   "source": [
    "df.info   #by using info we also see the details of the dataset"
   ]
  },
  {
   "cell_type": "code",
   "execution_count": 10,
   "id": "cc857c53",
   "metadata": {},
   "outputs": [
    {
     "name": "stdout",
     "output_type": "stream",
     "text": [
      "<class 'pandas.core.frame.DataFrame'>\n",
      "RangeIndex: 1387 entries, 0 to 1386\n",
      "Data columns (total 10 columns):\n",
      " #   Column                 Non-Null Count  Dtype \n",
      "---  ------                 --------------  ----- \n",
      " 0   Title                  1387 non-null   object\n",
      " 1   Channel Name           1387 non-null   object\n",
      " 2   Published At           1387 non-null   object\n",
      " 3   Description            1387 non-null   object\n",
      " 4   Video Duration         1387 non-null   object\n",
      " 5   Default Thumbnail URL  1387 non-null   object\n",
      " 6   Tags                   1387 non-null   object\n",
      " 7   View Count             1387 non-null   int64 \n",
      " 8   Like Count             1387 non-null   int64 \n",
      " 9   Favorite Count         1387 non-null   int64 \n",
      "dtypes: int64(3), object(7)\n",
      "memory usage: 108.5+ KB\n"
     ]
    }
   ],
   "source": [
    "df.info()   #by using info() we can see the datatype of dataset"
   ]
  },
  {
   "cell_type": "code",
   "execution_count": null,
   "id": "2873f2fb",
   "metadata": {},
   "outputs": [],
   "source": []
  }
 ],
 "metadata": {
  "kernelspec": {
   "display_name": "Python 3 (ipykernel)",
   "language": "python",
   "name": "python3"
  },
  "language_info": {
   "codemirror_mode": {
    "name": "ipython",
    "version": 3
   },
   "file_extension": ".py",
   "mimetype": "text/x-python",
   "name": "python",
   "nbconvert_exporter": "python",
   "pygments_lexer": "ipython3",
   "version": "3.11.5"
  }
 },
 "nbformat": 4,
 "nbformat_minor": 5
}
